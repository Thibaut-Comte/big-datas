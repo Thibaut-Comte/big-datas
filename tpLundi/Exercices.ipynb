{
 "cells": [
  {
   "cell_type": "markdown",
   "metadata": {},
   "source": [
    "## Exercices\n",
    "\n",
    "\n",
    "### Le compte bancaire\n",
    "\n",
    "Écrire un programme python qui permet de définir une classe CompteBancaire(), qui permette d’instancier des objets tels que compte1, compte2, etc. Le constructeur de cette classe initialisera deux attributs d’instance nom et solde, avec les valeurs par défaut ’Dupont’ et 1000.\n",
    "\n",
    "Trois autres méthodes seront définies :\n",
    "\n",
    "- depot(somme) permettra d’ajouter une certaine somme au solde ;\n",
    "- retrait(somme) permettra de retirer une certaine somme du solde ;\n",
    "- affiche() permettra d’afficher le nom du titulaire et le solde de son compte.\n",
    "\n",
    "\n",
    "Exemples d’exécution:\n",
    "```\n",
    ">>> compte1 = CompteBancaire(‘Duchmol’, 800)\n",
    ">>> compte1.depot(350)\n",
    ">>> compte1.retrait(200)\n",
    ">>> compte1.affiche()\n",
    "Le solde du compte bancaire de Duchmol est de 950 euros.\n",
    ">>> compte2 = CompteBancaire()\n",
    ">>> compte2.depot(25)\n",
    ">>> compte2.affiche()\n",
    "Le solde du compte bancaire de Dupont est de 1025 euros.\n",
    "\n",
    "```\n",
    "\n",
    "\n",
    "### La surcharge d'opérateur \n",
    "\n",
    "Définir une classe Point avec un constructeur, un point est définit soit par deux coordonnées x et y, s’il s’agit d’une représentation d’un point au plan ou par trois coordonnées x, y et z, s’il s’agit d’une représentation d’un point en espace.\n",
    "\n",
    "La classe Point doit contenir une méthode ToString qui affiche le point.\n",
    "\n",
    "Exemple d’exécution:\n",
    "```\n",
    ">>>P1=Point(2,3)\n",
    ">>>P1.ToString()\n",
    "P(2.00 , 3.00)\n",
    ">>>P2=Point(1,-5,6)\n",
    ">>>P2.ToString()\n",
    "P(1.00 , -5.00 , 6.00)\n",
    "```\n",
    "\n",
    "\n",
    "### L'héritage simple\n",
    "\n",
    "Définir les classes suivantes:\n",
    "\n",
    "- Une classe DateNaissance avec trois attributs, jour, mois, année et une méthode ToString qui convertit la date de naissance en chaine de caractères\n",
    "- Une classe Personne  avec trois attributs, nom, prénom et date de naissance et une méthode polymorphe Afficher pour afficher les données de chaque personne.\n",
    "- Une classe Employé qui dérive de la classe Personne, avec en plus un attribut Salaire et la redéfinition de la méthode Afficher.\n",
    "- Une classe Chef qui dérive de la classe Employé, avec en plus un attribut Service et la redéfinition de la méthode Afficher.\n",
    "\n",
    "Exemple d’exécution:\n",
    "\n",
    "```\n",
    ">>>P=personne(“Ilyass”,”Math”,DateNaissance(1,7,1982))\n",
    ">>>P.afficher()\n",
    "Nom: Ilyass \n",
    "Prénom: Math\n",
    "Date de naissance: 01 / 07 / 1982\n",
    "\n",
    ">>>E=employe(“Ilyass”,”Math”,DateNaissance(1,7,1985),7865.548)\n",
    ">>>E.afficher()\n",
    "Nom: Ilyass \n",
    "Prénom: Math\n",
    "Date de naissance: 01 / 07 / 1985\n",
    "Salaire: 7865.55\n",
    "\n",
    ">>>Ch=chef(“Ilyass”,”Math”,DateNaissance(1,7,1988),7865.548,”Ressource humaine”)\n",
    ">>>Ch.afficher()\n",
    "Nom: Ilyass \n",
    "Prénom: Math\n",
    "Date de naissance: 01 / 07 / 1988\n",
    "Salaire: 7865.55\n",
    "Service: Ressource humaine\n",
    "```\n"
   ]
  },
  {
   "cell_type": "markdown",
   "metadata": {},
   "source": [
    "## Exercice sur le polymorphisme\n",
    "\n",
    "### Consignes \n",
    "\n",
    "Une boîtes aux lettres recueille des courrier qui peuvent être des lettres ou des colis.\n",
    "\n",
    "Une lettre est caractérisée par :\n",
    "\n",
    "son poids (en grammes)\n",
    "le mode d’expédition (express ou normal)\n",
    "son adresse de destination\n",
    "son adresse d’expédition\n",
    "son format (“A3” ou “A4”)\n",
    "Un colis est caractérisé par :\n",
    "\n",
    "son poids (en grammes)\n",
    "le mode d’expédition (express ou normal)\n",
    "son adresse de destination\n",
    "son adresse d’expédition\n",
    "son volume (en litres )\n",
    "Il faut donc définir aussi les deux méthodes:\n",
    "\n",
    "calculTimbre: qui calcule le prix du Timbre\n",
    "ToString qui affiche un courrier\n",
    "Règles pour calculer le prix du Timbre :\n",
    "\n",
    "en mode d’expédition normal :\n",
    "\n",
    "Le montant nécessaire pour affranchir une lettre dépend de son format et de son poids : Formule : montant = tarif de base + 1.0 * poids (kilos), où le tarif de base pour une lettre “A4” est de 2.50, et 3.50 pour une lettre “A3”\n",
    "\n",
    "Le montant nécessaire pour affranchir un colis dépend de son poids et de son volume : Formule : montant = 0.25 volume (litres) + poids (kilos) 1.0\n",
    "\n",
    "en mode d’expédition express : les montants précédents sont doublés, quelque soit le type de courrier\n",
    "\n",
    "### Exemple d’exécution :\n",
    "```\n",
    ">>>L1=Lettre(“Lille”,”Paris”,80,”normal”,”A4″)\n",
    ">>>L1.ToString()\n",
    "Lettre:\n",
    "Adresse destination: Lille \n",
    "Adress expedition: Paris\n",
    "Poids: 80.00 grammes\n",
    "Mode: normal \n",
    "Format:A4\n",
    "Prix du timbre:0.20\n",
    ">>>C1=Colis(“Marrakeche”,”Barcelone “,3500,”expresse”,2.25)\n",
    ">>>C1.ToString()\n",
    "Collis:\n",
    "Adresse destination: Marrakeche \n",
    "Adress expedition: Barcelone \n",
    "Poids: 3500.00 grammes\n",
    "Mode: expresse \n",
    "Volume: 2.25 litres\n",
    "Prix du timbre:3937.50\n",
    "```"
   ]
  },
  {
   "cell_type": "markdown",
   "metadata": {},
   "source": [
    "## Exercice 1"
   ]
  },
  {
   "cell_type": "code",
   "execution_count": 29,
   "metadata": {},
   "outputs": [],
   "source": [
    "class CompteBancaire :\n",
    "    def __init__(self, name = \"Gérard\", solde = 0):\n",
    "        self.name = name\n",
    "        self.solde = solde\n",
    "        \n",
    "    def depot(self, somme):\n",
    "        self.solde += somme\n",
    "    \n",
    "    def retrait(self, somme):\n",
    "        self.solde -= somme\n",
    "    \n",
    "    def affiche(self):\n",
    "        print(\"Le solde du compte de \"+str(self.name)+\" est de \"+str(self.solde))\n",
    "    "
   ]
  },
  {
   "cell_type": "code",
   "execution_count": 30,
   "metadata": {},
   "outputs": [
    {
     "name": "stdout",
     "output_type": "stream",
     "text": [
      "Le solde du compte de Didier est de 50\n",
      "Le solde du compte de Gérard est de 25\n"
     ]
    }
   ],
   "source": [
    "compte1 = CompteBancaire(\"Didier\", 100)\n",
    "compte1.depot(50)\n",
    "compte1.retrait(100)\n",
    "compte1.affiche()\n",
    "compte2 = CompteBancaire()\n",
    "compte2.depot(25)\n",
    "compte2.affiche()"
   ]
  },
  {
   "cell_type": "markdown",
   "metadata": {},
   "source": [
    "## Exercice 2"
   ]
  },
  {
   "cell_type": "code",
   "execution_count": 78,
   "metadata": {},
   "outputs": [],
   "source": [
    "class Point :\n",
    "    \n",
    "    def __init__(self, x = 0, y = 0, z = None) :\n",
    "        self.x = x\n",
    "        self.y = y\n",
    "        self.z = z\n",
    "    \n",
    "    def toString(self):\n",
    "        if (self.z is None):\n",
    "            print(\"P(%.2f, %.2f)\" %(self.x,self.y))\n",
    "        else :\n",
    "            print(\"P(%.2f, %.2f, %.2f)\" %(self.x,self.y, self.z))\n",
    "    "
   ]
  },
  {
   "cell_type": "code",
   "execution_count": 79,
   "metadata": {},
   "outputs": [
    {
     "name": "stdout",
     "output_type": "stream",
     "text": [
      "P(2.00, 3.00)\n",
      "P(1.00, -5.00, 6.00)\n"
     ]
    }
   ],
   "source": [
    "point = Point(2, 3)\n",
    "point.toString()\n",
    "point2 = Point(1, -5, 6)\n",
    "point2.toString()"
   ]
  },
  {
   "cell_type": "markdown",
   "metadata": {},
   "source": [
    "## Exercice 3"
   ]
  },
  {
   "cell_type": "code",
   "execution_count": 103,
   "metadata": {},
   "outputs": [],
   "source": [
    "class DateNaissance:\n",
    "    def __init__(self,jour,mois,annee):\n",
    "        self.jour=jour\n",
    "        self.mois=mois\n",
    "        self.annee=annee\n",
    "         \n",
    "    def toString(self):\n",
    "        return \"%02d / %02d / %d\" %(self.jour,self.mois,self.annee)\n",
    "\n",
    "class Person:\n",
    "    \n",
    "    def __init__(self, lastname, firstname, birth):\n",
    "        self.lastname = lastname\n",
    "        self.firstname = firstname\n",
    "        self.birth = birth\n",
    "    \n",
    "    def afficher(self):\n",
    "        print(\"Nom: %s \\nPrénom: %s \\nDate de naissance: %s\" % (self.lastname, self.firstname, self.birth.toString()))\n",
    "        \n",
    "class Employee(Person):\n",
    "    def __init__(self, lastname, firstname, birth, salaire):\n",
    "        Person.__init__(self, lastname, firstname, birth)\n",
    "        self.salaire = salaire\n",
    "        \n",
    "    def afficher(self):\n",
    "        super().afficher()\n",
    "        print(\"Salaire: %.3f\" % (self.salaire))\n",
    "        \n",
    "class Chef(Employee):\n",
    "    def __init__(self, lastname, firstname, birth, salaire, service):\n",
    "        Employee.__init__(self, lastname, firstname, birth, salaire)\n",
    "        self.service = service\n",
    "        \n",
    "    def afficher(self):\n",
    "        super().afficher()\n",
    "        print(\"Service: %s\" % (self.service))\n",
    "        "
   ]
  },
  {
   "cell_type": "code",
   "execution_count": 104,
   "metadata": {},
   "outputs": [
    {
     "name": "stdout",
     "output_type": "stream",
     "text": [
      "Nom: Ilyass \n",
      "Prénom: Math \n",
      "Date de naissance: 01 / 07 / 1982\n",
      "Nom: Ilyass \n",
      "Prénom: Math \n",
      "Date de naissance: 01 / 07 / 1985\n",
      "Salaire: 7865.548\n",
      "Nom: Ilyass \n",
      "Prénom: Math \n",
      "Date de naissance: 01 / 07 / 1988\n",
      "Salaire: 7865.548\n",
      "Service: Ressource humaine\n"
     ]
    }
   ],
   "source": [
    "P=Person(\"Ilyass\",\"Math\",DateNaissance(1,7,1982))\n",
    "P.afficher()\n",
    "E=Employee(\"Ilyass\",\"Math\",DateNaissance(1,7,1985),7865.548)\n",
    "E.afficher()\n",
    "Ch=Chef(\"Ilyass\",\"Math\", DateNaissance(1,7,1988),7865.548,\"Ressource humaine\")\n",
    "Ch.afficher()"
   ]
  },
  {
   "cell_type": "markdown",
   "metadata": {},
   "source": [
    "## Exercice 4"
   ]
  },
  {
   "cell_type": "code",
   "execution_count": 147,
   "metadata": {},
   "outputs": [],
   "source": [
    "class Courrier:\n",
    "    def __init__(self, adressDestination, adressExpedition, weight, modeExpedition):\n",
    "        self.adressDestination = adressDestination\n",
    "        self.adressExpedition = adressExpedition\n",
    "        self.weight = weight\n",
    "        self.modeExpedition = modeExpedition\n",
    "    def calculTimbre(self):\n",
    "        return\n",
    "    def toString(self):\n",
    "        print(\"Adresse destination: %s \\nAdresse expedition: %s \\nPoids: %.2f grammes \\nMode: %s\" % (self.adressDestination,self.adressExpedition, self.weight,self.modeExpedition))\n",
    "        \n",
    "class Letter(Courrier):\n",
    "    def __init__(self, weight, modeExpedition, adressDestination, adressExpedition, formatLetter):\n",
    "        Courrier.__init__(self, weight, modeExpedition, adressDestination, adressExpedition)\n",
    "        self.formatLetter = formatLetter\n",
    "        \n",
    "    def calculTimbre(self):\n",
    "        montant = 0\n",
    "        if self.formatLetter == \"A3\":\n",
    "            montant = 3.50 * (self.weight / 1000)\n",
    "        elif self.formatLetter == \"A4\" :\n",
    "            montant = 2.50 * (self.weight / 1000)\n",
    "        if self.modeExpedition == \"express\":\n",
    "            montant = montant * 2\n",
    "        return montant\n",
    "        \n",
    "    def toString(self):\n",
    "        print(\"Lettre:\")\n",
    "        super().toString()\n",
    "        print(\"Format: %s \\nPrix du timbre : %.2f\" % (self.formatLetter, self.calculTimbre()))\n",
    "        \n",
    "class Colis(Courrier):\n",
    "    def __init__(self, weight, modeExpedition, adressDestination, adressExpedition, volume):\n",
    "        Courrier.__init__(self, weight, modeExpedition, adressDestination, adressExpedition)\n",
    "        self.volume = volume\n",
    "        \n",
    "    def calculTimbre(self):\n",
    "        montant = 0.25 * self.volume + (self.weight / 1000)\n",
    "        if self.modeExpedition == \"express\":\n",
    "            print(\"express\")\n",
    "            montant = montant * 2\n",
    "        return montant\n",
    "        \n",
    "    def toString(self):\n",
    "        print(\"Colis:\")\n",
    "        super().toString()\n",
    "        print(\"Volume: %s litres \\nPrix du timbre: %.2f\" % (self.volume, self.calculTimbre()))\n",
    "        "
   ]
  },
  {
   "cell_type": "code",
   "execution_count": 150,
   "metadata": {},
   "outputs": [
    {
     "name": "stdout",
     "output_type": "stream",
     "text": [
      "Lettre:\n",
      "Adresse destination: Lille \n",
      "Adresse expedition: Paris \n",
      "Poids: 80.00 grammes \n",
      "Mode: normal\n",
      "Format: A4 \n",
      "Prix du timbre : 0.20\n",
      "\n",
      "\n",
      "Colis:\n",
      "Adresse destination: Marrakeche \n",
      "Adresse expedition: Barcelone \n",
      "Poids: 3500.00 grammes \n",
      "Mode: express\n",
      "express\n",
      "Volume: 2.25 litres \n",
      "Prix du timbre: 8.12\n"
     ]
    }
   ],
   "source": [
    "L1=Letter(\"Lille\",\"Paris\",80,\"normal\",\"A4\")\n",
    "L1.toString()\n",
    "print(\"\\n\")\n",
    "C1=Colis(\"Marrakeche\",\"Barcelone\",3500,\"express\",2.25)\n",
    "C1.toString()"
   ]
  }
 ],
 "metadata": {
  "kernelspec": {
   "display_name": "Python 3",
   "language": "python",
   "name": "python3"
  },
  "language_info": {
   "codemirror_mode": {
    "name": "ipython",
    "version": 3
   },
   "file_extension": ".py",
   "mimetype": "text/x-python",
   "name": "python",
   "nbconvert_exporter": "python",
   "pygments_lexer": "ipython3",
   "version": "3.6.9"
  }
 },
 "nbformat": 4,
 "nbformat_minor": 2
}
